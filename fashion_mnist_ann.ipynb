{
 "cells": [
  {
   "cell_type": "code",
   "execution_count": 1,
   "id": "f82605cb",
   "metadata": {},
   "outputs": [],
   "source": [
    "import tensorflow as tf\n",
    "import numpy as np\n",
    "from tensorflow import keras\n",
    "from tensorflow.keras import layers\n",
    "import matplotlib.pyplot as plt \n",
    "import random"
   ]
  },
  {
   "cell_type": "code",
   "execution_count": 2,
   "id": "982a08c5",
   "metadata": {},
   "outputs": [
    {
     "name": "stdout",
     "output_type": "stream",
     "text": [
      "tensorflow: 2.12.0\n"
     ]
    }
   ],
   "source": [
    "print(f\"tensorflow: {tf.__version__}\")"
   ]
  },
  {
   "cell_type": "markdown",
   "id": "e2f7abb5",
   "metadata": {},
   "source": [
    "# 1. Load data"
   ]
  },
  {
   "cell_type": "code",
   "execution_count": 3,
   "id": "8bd6bef0",
   "metadata": {},
   "outputs": [],
   "source": [
    "(X_train, y_train), (X_test, y_test) = keras.datasets.fashion_mnist.load_data()"
   ]
  },
  {
   "cell_type": "code",
   "execution_count": 4,
   "id": "2a33b947",
   "metadata": {},
   "outputs": [
    {
     "data": {
      "text/plain": [
       "((60000, 28, 28), (60000,))"
      ]
     },
     "execution_count": 4,
     "metadata": {},
     "output_type": "execute_result"
    }
   ],
   "source": [
    "X_train.shape, y_train.shape"
   ]
  },
  {
   "cell_type": "code",
   "execution_count": 5,
   "id": "8261b528",
   "metadata": {},
   "outputs": [
    {
     "data": {
      "text/plain": [
       "(dtype('uint8'), dtype('uint8'))"
      ]
     },
     "execution_count": 5,
     "metadata": {},
     "output_type": "execute_result"
    }
   ],
   "source": [
    "X_train.dtype, y_train.dtype"
   ]
  },
  {
   "cell_type": "code",
   "execution_count": 6,
   "id": "8b7f4e21",
   "metadata": {},
   "outputs": [
    {
     "data": {
      "text/plain": [
       "9"
      ]
     },
     "execution_count": 6,
     "metadata": {},
     "output_type": "execute_result"
    }
   ],
   "source": [
    "y_train[0]"
   ]
  },
  {
   "cell_type": "code",
   "execution_count": 7,
   "id": "d3291f58",
   "metadata": {},
   "outputs": [],
   "source": [
    "class_names = ['T_shirt/top', 'Trouser', 'Pullover', 'Dress', 'Coat', 'Sandal', 'Shirt', 'Sneaker', 'Bag', 'Ankle Boot']\n",
    "class_nums = len(class_names)"
   ]
  },
  {
   "cell_type": "code",
   "execution_count": 36,
   "id": "5c1c4254",
   "metadata": {},
   "outputs": [
    {
     "data": {
      "image/png": "[encoded data removed]",
      "text/plain": [
       "<Figure size 576x288 with 8 Axes>"
      ]
     },
     "metadata": {},
     "output_type": "display_data"
    }
   ],
   "source": [
    "from typing import Optional\n",
    "def plot_data(x_data: np.ndarray, y_data: np.ndarray, y_proba: Optional[np.ndarray]=None) -> None:\n",
    "    nrows, ncols = 2, 4\n",
    "    fig, axes = plt.subplots(nrows, ncols, figsize=(8,4))\n",
    "    \n",
    "    for idx in range(ncols*nrows):\n",
    "        ax = axes[idx//ncols, idx%ncols]\n",
    "        img_idx = random.randint(0, len(x_data))\n",
    "        ax.imshow(x_data[img_idx], cmap='gray')\n",
    "        ax.set(xticks=[], yticks=[])\n",
    "        color = 'green'\n",
    "        true_label_str = f\"True: {class_names[y_data[img_idx]]}\"\n",
    "        \n",
    "        if y_proba is not None:\n",
    "            predicted_idx = np.argmax(y_proba[img_idx])\n",
    "            prediction_label = class_names[predicted_idx]\n",
    "            color = 'red' if predicted_idx != y_data[img_idx] else color\n",
    "            prediction_label_str = f'\\nPredicted: {prediction_label}'\n",
    "        \n",
    "        img_title = true_label_str if y_proba is None else true_label_str + prediction_label_str\n",
    "        ax.set_xlabel(img_title, color=color, fontsize=12)\n",
    "    \n",
    "    plt.tight_layout()\n",
    "    plt.show()\n",
    "        \n",
    "plot_data(X_train, y_train)"
   ]
  },
  {
   "cell_type": "markdown",
   "id": "dbd4e12d",
   "metadata": {},
   "source": [
    "# 2. Image Pre-processing\n",
    "\n",
    "- Reshaping it into the shape the model expects and scaling it so that all values are in the `[0, 1]` interval\n",
    "- Transform from `uint8` to `float32`\n",
    "- "
   ]
  },
  {
   "cell_type": "code",
   "execution_count": 9,
   "id": "31a94cc2",
   "metadata": {},
   "outputs": [],
   "source": [
    "# Convert to float32 & scale images to the [0, 1] range for training\n",
    "X_train = X_train.astype(np.float32) / 255\n",
    "X_test = X_test.astype(np.float32) / 255"
   ]
  },
  {
   "cell_type": "code",
   "execution_count": 10,
   "id": "5f86a877",
   "metadata": {},
   "outputs": [
    {
     "data": {
      "text/plain": [
       "(dtype('float32'), dtype('float32'))"
      ]
     },
     "execution_count": 10,
     "metadata": {},
     "output_type": "execute_result"
    }
   ],
   "source": [
    "X_train.dtype, X_test.dtype"
   ]
  },
  {
   "cell_type": "code",
   "execution_count": 11,
   "id": "755d3579",
   "metadata": {},
   "outputs": [],
   "source": [
    "X_train = np.expand_dims(X_train, axis = -1)\n",
    "X_test = np.expand_dims(X_test, axis = -1)"
   ]
  },
  {
   "cell_type": "code",
   "execution_count": 12,
   "id": "cf48a808",
   "metadata": {},
   "outputs": [
    {
     "data": {
      "text/plain": [
       "((60000, 28, 28, 1), (10000, 28, 28, 1))"
      ]
     },
     "execution_count": 12,
     "metadata": {},
     "output_type": "execute_result"
    }
   ],
   "source": [
    "X_train.shape, X_test.shape"
   ]
  },
  {
   "cell_type": "code",
   "execution_count": 13,
   "id": "67a21b46",
   "metadata": {},
   "outputs": [],
   "source": [
    "y_train_label = keras.utils.to_categorical(y_train, class_nums)\n",
    "y_test_label = keras.utils.to_categorical(y_test, class_nums)"
   ]
  },
  {
   "cell_type": "code",
   "execution_count": 14,
   "id": "c88d706e",
   "metadata": {},
   "outputs": [
    {
     "data": {
      "text/plain": [
       "(9, array([0., 0., 0., 0., 0., 0., 0., 0., 0., 1.], dtype=float32))"
      ]
     },
     "execution_count": 14,
     "metadata": {},
     "output_type": "execute_result"
    }
   ],
   "source": [
    "y_train[0], y_train_label[0]"
   ]
  },
  {
   "cell_type": "markdown",
   "id": "77794573",
   "metadata": {},
   "source": [
    " # 3. Network Architecture"
   ]
  },
  {
   "cell_type": "code",
   "execution_count": 15,
   "id": "ec390206",
   "metadata": {},
   "outputs": [],
   "source": [
    "input_shape = (28,28,1)"
   ]
  },
  {
   "cell_type": "code",
   "execution_count": 16,
   "id": "2b41f02f",
   "metadata": {},
   "outputs": [
    {
     "name": "stdout",
     "output_type": "stream",
     "text": [
      "Model: \"sequential\"\n",
      "_________________________________________________________________\n",
      " Layer (type)                Output Shape              Param #   \n",
      "=================================================================\n",
      " flatten (Flatten)           (None, 784)               0         \n",
      "                                                                 \n",
      " dense (Dense)               (None, 512)               401920    \n",
      "                                                                 \n",
      " dense_1 (Dense)             (None, 256)               131328    \n",
      "                                                                 \n",
      " dense_2 (Dense)             (None, 10)                2570      \n",
      "                                                                 \n",
      "=================================================================\n",
      "Total params: 535,818\n",
      "Trainable params: 535,818\n",
      "Non-trainable params: 0\n",
      "_________________________________________________________________\n"
     ]
    }
   ],
   "source": [
    "model = keras.models.Sequential([\n",
    "    layers.Flatten(input_shape=input_shape),\n",
    "    layers.Dense(512, activation='relu'),\n",
    "    layers.Dense(256, activation='relu'),\n",
    "    layers.Dense(class_nums, activation='softmax')\n",
    "])\n",
    "model.summary()"
   ]
  },
  {
   "cell_type": "code",
   "execution_count": 17,
   "id": "c758ea90",
   "metadata": {},
   "outputs": [],
   "source": [
    "model.compile(optimizer='rmsprop', loss='categorical_crossentropy', metrics='accuracy')"
   ]
  },
  {
   "cell_type": "code",
   "execution_count": 18,
   "id": "d77c32e3",
   "metadata": {},
   "outputs": [
    {
     "name": "stdout",
     "output_type": "stream",
     "text": [
      "Epoch 1/10\n",
      "422/422 [==============================] - 4s 9ms/step - loss: 0.5594 - accuracy: 0.7956 - val_loss: 0.4164 - val_accuracy: 0.8452\n",
      "Epoch 2/10\n",
      "422/422 [==============================] - 4s 9ms/step - loss: 0.3844 - accuracy: 0.8589 - val_loss: 0.3994 - val_accuracy: 0.8530\n",
      "Epoch 3/10\n",
      "422/422 [==============================] - 4s 9ms/step - loss: 0.3369 - accuracy: 0.8739 - val_loss: 0.3629 - val_accuracy: 0.8695\n",
      "Epoch 4/10\n",
      "422/422 [==============================] - 4s 9ms/step - loss: 0.3076 - accuracy: 0.8837 - val_loss: 0.3543 - val_accuracy: 0.8747\n",
      "Epoch 5/10\n",
      "422/422 [==============================] - 4s 10ms/step - loss: 0.2909 - accuracy: 0.8912 - val_loss: 0.3528 - val_accuracy: 0.8690\n",
      "Epoch 6/10\n",
      "422/422 [==============================] - 5s 11ms/step - loss: 0.2740 - accuracy: 0.8963 - val_loss: 0.3458 - val_accuracy: 0.8768\n",
      "Epoch 7/10\n",
      "422/422 [==============================] - 4s 10ms/step - loss: 0.2594 - accuracy: 0.9019 - val_loss: 0.3345 - val_accuracy: 0.8842\n",
      "Epoch 8/10\n",
      "422/422 [==============================] - 4s 11ms/step - loss: 0.2488 - accuracy: 0.9068 - val_loss: 0.3227 - val_accuracy: 0.8892\n",
      "Epoch 9/10\n",
      "422/422 [==============================] - 4s 10ms/step - loss: 0.2390 - accuracy: 0.9090 - val_loss: 0.3450 - val_accuracy: 0.8845\n",
      "Epoch 10/10\n",
      "422/422 [==============================] - 5s 11ms/step - loss: 0.2288 - accuracy: 0.9141 - val_loss: 0.3513 - val_accuracy: 0.8872\n"
     ]
    }
   ],
   "source": [
    "epochs = 10\n",
    "batch_size = 128\n",
    "history = model.fit(X_train, y_train_label, epochs=epochs, batch_size=batch_size, validation_split=0.1)"
   ]
  },
  {
   "cell_type": "code",
   "execution_count": 19,
   "id": "43dc95aa",
   "metadata": {},
   "outputs": [],
   "source": [
    "history_dict = history.history"
   ]
  },
  {
   "cell_type": "code",
   "execution_count": 20,
   "id": "68373494",
   "metadata": {},
   "outputs": [
    {
     "data": {
      "text/plain": [
       "dict_keys(['loss', 'accuracy', 'val_loss', 'val_accuracy'])"
      ]
     },
     "execution_count": 20,
     "metadata": {},
     "output_type": "execute_result"
    }
   ],
   "source": [
    "history_dict.keys()"
   ]
  },
  {
   "cell_type": "code",
   "execution_count": 21,
   "id": "2213eacf",
   "metadata": {},
   "outputs": [],
   "source": [
    "train_loss, val_loss = history_dict['loss'], history_dict['val_loss']\n",
    "train_acc, val_acc = history_dict['accuracy'], history_dict['val_accuracy']"
   ]
  },
  {
   "cell_type": "code",
   "execution_count": 25,
   "id": "62df0b20",
   "metadata": {},
   "outputs": [
    {
     "data": {
      "text/plain": [
       "<matplotlib.legend.Legend at 0x2d1b0f3de50>"
      ]
     },
     "execution_count": 25,
     "metadata": {},
     "output_type": "execute_result"
    },
    {
     "data": {
      "image/png": "[encoded data removed]",
      "text/plain": [
       "<Figure size 1080x360 with 2 Axes>"
      ]
     },
     "metadata": {
      "needs_background": "light"
     },
     "output_type": "display_data"
    }
   ],
   "source": [
    "fig, (ax1, ax2) = plt.subplots(1, 2, figsize=(15,5))\n",
    "epoch_runs = [i+1 for i in range(epochs)]\n",
    "\n",
    "ax1.plot(epoch_runs, train_loss, label='Training Loss')\n",
    "ax1.plot(epoch_runs, val_loss, label='Validation Loss', marker='o')\n",
    "ax1.set(title='Training vs Validation Loss', xlabel='Epochs', ylabel='Loss')\n",
    "ax1.legend()\n",
    "\n",
    "ax2.plot(epoch_runs, train_acc, label='Training Accuracy')\n",
    "ax2.plot(epoch_runs, val_acc, label='Validation Accuracy', marker='o')\n",
    "ax2.set(title='Training vs Validation Accuracy', xlabel='Epochs', ylabel='Accuracy')\n",
    "ax2.legend()"
   ]
  },
  {
   "cell_type": "markdown",
   "id": "cb59d594",
   "metadata": {},
   "source": [
    "# 4. Model Evaluation"
   ]
  },
  {
   "cell_type": "code",
   "execution_count": 26,
   "id": "468aab7a",
   "metadata": {},
   "outputs": [
    {
     "name": "stdout",
     "output_type": "stream",
     "text": [
      "313/313 [==============================] - 1s 3ms/step - loss: 0.3649 - accuracy: 0.8783\n"
     ]
    }
   ],
   "source": [
    "score = model.evaluate(X_test, y_test_label)"
   ]
  },
  {
   "cell_type": "code",
   "execution_count": 27,
   "id": "1b673db0",
   "metadata": {},
   "outputs": [
    {
     "name": "stdout",
     "output_type": "stream",
     "text": [
      "Test Loss: 0.3649\n",
      "Test Accuracy: 0.8783\n"
     ]
    }
   ],
   "source": [
    "print(f'Test Loss: {score[0]:.4f}')\n",
    "print(f'Test Accuracy: {score[1]:.4f}')"
   ]
  },
  {
   "cell_type": "markdown",
   "id": "37360e2b",
   "metadata": {},
   "source": [
    "# 5. Prediction"
   ]
  },
  {
   "cell_type": "code",
   "execution_count": 28,
   "id": "595dd5b0",
   "metadata": {},
   "outputs": [
    {
     "name": "stdout",
     "output_type": "stream",
     "text": [
      "1/1 [==============================] - 0s 81ms/step\n"
     ]
    }
   ],
   "source": [
    "X_sample = X_test[:3]\n",
    "y_proba = model.predict(X_sample)"
   ]
  },
  {
   "cell_type": "code",
   "execution_count": 30,
   "id": "b48fb89f",
   "metadata": {},
   "outputs": [
    {
     "data": {
      "text/plain": [
       "array([[0.   , 0.   , 0.   , 0.   , 0.   , 0.   , 0.   , 0.   , 0.   ,\n",
       "        1.   ],\n",
       "       [0.   , 0.   , 0.999, 0.   , 0.   , 0.   , 0.   , 0.   , 0.   ,\n",
       "        0.   ],\n",
       "       [0.   , 1.   , 0.   , 0.   , 0.   , 0.   , 0.   , 0.   , 0.   ,\n",
       "        0.   ]], dtype=float32)"
      ]
     },
     "execution_count": 30,
     "metadata": {},
     "output_type": "execute_result"
    }
   ],
   "source": [
    "y_proba.round(3)"
   ]
  },
  {
   "cell_type": "code",
   "execution_count": 31,
   "id": "d9a8c7ea",
   "metadata": {},
   "outputs": [],
   "source": [
    "predictions = np.argmax(y_proba, axis=1)"
   ]
  },
  {
   "cell_type": "code",
   "execution_count": 34,
   "id": "52b7b2b7",
   "metadata": {},
   "outputs": [
    {
     "data": {
      "text/plain": [
       "['Ankle Boot', 'Pullover', 'Trouser']"
      ]
     },
     "execution_count": 34,
     "metadata": {},
     "output_type": "execute_result"
    }
   ],
   "source": [
    "[class_names[predict] for predict in predictions]"
   ]
  },
  {
   "cell_type": "code",
   "execution_count": 37,
   "id": "324afb79",
   "metadata": {},
   "outputs": [
    {
     "name": "stdout",
     "output_type": "stream",
     "text": [
      "313/313 [==============================] - 1s 2ms/step\n"
     ]
    }
   ],
   "source": [
    "y_proba = model.predict(X_test)"
   ]
  },
  {
   "cell_type": "code",
   "execution_count": 41,
   "id": "ddb132b1",
   "metadata": {},
   "outputs": [
    {
     "data": {
      "image/png": "[encoded data removed]",
      "text/plain": [
       "<Figure size 576x288 with 8 Axes>"
      ]
     },
     "metadata": {},
     "output_type": "display_data"
    }
   ],
   "source": [
    "plot_data(X_test, y_test, y_proba)"
   ]
  },
  {
   "cell_type": "code",
   "execution_count": null,
   "id": "966bfaaa",
   "metadata": {},
   "outputs": [],
   "source": []
  }
 ],
 "metadata": {
  "kernelspec": {
   "display_name": "Python 3 (ipykernel)",
   "language": "python",
   "name": "python3"
  },
  "language_info": {
   "codemirror_mode": {
    "name": "ipython",
    "version": 3
   },
   "file_extension": ".py",
   "mimetype": "text/x-python",
   "name": "python",
   "nbconvert_exporter": "python",
   "pygments_lexer": "ipython3",
   "version": "3.9.12"
  }
 },
 "nbformat": 4,
 "nbformat_minor": 5
}
